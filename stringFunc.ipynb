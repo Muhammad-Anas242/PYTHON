{
 "cells": [
  {
   "cell_type": "code",
   "execution_count": 1,
   "metadata": {},
   "outputs": [
    {
     "name": "stdout",
     "output_type": "stream",
     "text": [
      "Muhammad anas\n"
     ]
    }
   ],
   "source": [
    "name = \"muhammad anas\"\n",
    "print(name.capitalize())"
   ]
  },
  {
   "cell_type": "code",
   "execution_count": 2,
   "metadata": {},
   "outputs": [
    {
     "name": "stdout",
     "output_type": "stream",
     "text": [
      "muhammad anas\n"
     ]
    }
   ],
   "source": [
    "name = \"Muhammad AnAs\"\n",
    "print(name.casefold())"
   ]
  },
  {
   "cell_type": "code",
   "execution_count": 5,
   "metadata": {},
   "outputs": [
    {
     "name": "stdout",
     "output_type": "stream",
     "text": [
      "Pakistan Zindabad\n",
      "******Pakistan Zindabad*******\n"
     ]
    }
   ],
   "source": [
    "string = \"Pakistan Zindabad\"\n",
    "print(string.center(10))\n",
    "\n",
    "\n",
    "string = \"Pakistan Zindabad\"\n",
    "print(string.center(30,'*'))"
   ]
  },
  {
   "cell_type": "code",
   "execution_count": 9,
   "metadata": {},
   "outputs": [
    {
     "name": "stdout",
     "output_type": "stream",
     "text": [
      "12\n",
      "2\n",
      "2\n"
     ]
    }
   ],
   "source": [
    "string = \"A paragraph is a self-contained unit of a discourse in writing dealing with a particular point or idea\"\n",
    "print(string.count(\"i\"))\n",
    "\n",
    "string = \"A paragraph is a self-contained unit of a discourse in writing dealing with a particular point or idea.\"\n",
    "print(string.count(\"is\"))\n",
    "\n",
    "string = \"A paragraph is a self-contained unit of a discourse in writing dealing with a particular point or idea.\"\n",
    "print(string.count(\"i\",6,30))"
   ]
  },
  {
   "cell_type": "code",
   "execution_count": 10,
   "metadata": {},
   "outputs": [
    {
     "name": "stdout",
     "output_type": "stream",
     "text": [
      "PAKISTAN!\n",
      "b'PAKISTAN!'\n"
     ]
    }
   ],
   "source": [
    "string = \"PAKISTAN!\"\n",
    "print(string)\n",
    "print(string.encode())"
   ]
  },
  {
   "cell_type": "code",
   "execution_count": 12,
   "metadata": {},
   "outputs": [
    {
     "name": "stdout",
     "output_type": "stream",
     "text": [
      "False\n",
      "True\n"
     ]
    }
   ],
   "source": [
    "string = \"A paragraph is a self-contained unit of a discourse in writing dealing with a particular point or idea\"\n",
    "print(string.endswith(\"self-contained\"))\n",
    "print(string.endswith(\"point or idea\"))\n"
   ]
  },
  {
   "cell_type": "code",
   "execution_count": 13,
   "metadata": {},
   "outputs": [
    {
     "name": "stdout",
     "output_type": "stream",
     "text": [
      "PAKISTAN        ZINDABAD\n",
      "PAKISTAN    ZINDABAD\n",
      "PAKISTAN            ZINDABAD\n"
     ]
    }
   ],
   "source": [
    "string = \"PAKISTAN\\tZINDABAD\"\n",
    "print(string.expandtabs())\n",
    "print(string.expandtabs(4))\n",
    "print(string.expandtabs(20))"
   ]
  },
  {
   "cell_type": "code",
   "execution_count": 15,
   "metadata": {},
   "outputs": [
    {
     "name": "stdout",
     "output_type": "stream",
     "text": [
      "17\n"
     ]
    }
   ],
   "source": [
    "string = \"A paragraph is a self-contained unit of a discourse in writing dealing with a particular point or idea\"\n",
    "print(string.find(\"self-contained\"))\n"
   ]
  },
  {
   "cell_type": "code",
   "execution_count": 16,
   "metadata": {},
   "outputs": [
    {
     "name": "stdout",
     "output_type": "stream",
     "text": [
      "hello anas, its 11:30 AM\n",
      "hello 11:30 AM, its anas\n",
      "hello anas, its 10:00 AM\n"
     ]
    }
   ],
   "source": [
    "print(\"hello {}, its {}\".format(\"anas\",\"11:30 AM\"))\n",
    "print(\"hello {1}, its {0}\".format(\"anas\",\"11:30 AM\"))\n",
    "print(\"hello {0}, its {1}\".format(\"anas\",\"10:00 AM\"))"
   ]
  },
  {
   "cell_type": "code",
   "execution_count": 17,
   "metadata": {},
   "outputs": [
    {
     "name": "stdout",
     "output_type": "stream",
     "text": [
      "4 -4\n",
      "4 -5 0\n"
     ]
    }
   ],
   "source": [
    "point = {'x':4,'y':-4}\n",
    "print('{x} {y}'.format_map(point))\n",
    "\n",
    "point = {'x':4,'y':-5, 'z': 0}\n",
    "print('{x} {y} {z}'.format_map(point))"
   ]
  },
  {
   "cell_type": "code",
   "execution_count": 20,
   "metadata": {},
   "outputs": [
    {
     "name": "stdout",
     "output_type": "stream",
     "text": [
      "32\n",
      "32\n"
     ]
    }
   ],
   "source": [
    "string = \"A paragraph is a self-contained unit of a discourse in writing dealing with a particular point or idea\"\n",
    "print(string.index('unit'))\n",
    "\n",
    "print(string.index('unit',12 ,77))"
   ]
  },
  {
   "cell_type": "code",
   "execution_count": 21,
   "metadata": {},
   "outputs": [
    {
     "name": "stdout",
     "output_type": "stream",
     "text": [
      "True\n",
      "True\n",
      "True\n",
      "False\n"
     ]
    }
   ],
   "source": [
    "string = \"error404\"\n",
    "print(string.isalnum())\n",
    "string1 = \"1222\"\n",
    "print(string1.isalnum())\n",
    "string1 = \"abc\"\n",
    "print(string1.isalnum())\n",
    "string1 = \"abc@123\"\n",
    "print(string1.isalnum())"
   ]
  },
  {
   "cell_type": "code",
   "execution_count": 22,
   "metadata": {},
   "outputs": [
    {
     "name": "stdout",
     "output_type": "stream",
     "text": [
      "True\n",
      "False\n"
     ]
    }
   ],
   "source": [
    "string = \"pakistan\"\n",
    "print(string.isalpha())\n",
    "\n",
    "string = \"abc def\"\n",
    "print(string1.isalpha())\n"
   ]
  },
  {
   "cell_type": "code",
   "execution_count": 23,
   "metadata": {},
   "outputs": [
    {
     "name": "stdout",
     "output_type": "stream",
     "text": [
      "False\n",
      "True\n"
     ]
    }
   ],
   "source": [
    "string = \"abc\"\n",
    "print(string.isdigit())\n",
    "\n",
    "string = \"1\"\n",
    "print(string.isdigit())"
   ]
  },
  {
   "cell_type": "code",
   "execution_count": 24,
   "metadata": {},
   "outputs": [
    {
     "name": "stdout",
     "output_type": "stream",
     "text": [
      "True\n",
      "False\n"
     ]
    }
   ],
   "source": [
    "string = \"100\"\n",
    "print(string.isdecimal())\n",
    "\n",
    "string = \"100.09\"\n",
    "print(string.isdecimal())"
   ]
  },
  {
   "cell_type": "code",
   "execution_count": 25,
   "metadata": {},
   "outputs": [
    {
     "name": "stdout",
     "output_type": "stream",
     "text": [
      "True\n"
     ]
    }
   ],
   "source": [
    "string = 'p a k i s t a n z i n d a b a d'\n",
    "print(string.isprintable())"
   ]
  },
  {
   "cell_type": "code",
   "execution_count": 26,
   "metadata": {},
   "outputs": [
    {
     "name": "stdout",
     "output_type": "stream",
     "text": [
      "True\n",
      "False\n"
     ]
    }
   ],
   "source": [
    "string = \"                   \"\n",
    "print(string.isspace())\n",
    "\n",
    "\n",
    "string = \"           space        \"\n",
    "print(string.isspace())"
   ]
  },
  {
   "cell_type": "code",
   "execution_count": 27,
   "metadata": {},
   "outputs": [
    {
     "name": "stdout",
     "output_type": "stream",
     "text": [
      "True\n"
     ]
    },
    {
     "data": {
      "text/plain": [
       "False"
      ]
     },
     "execution_count": 27,
     "metadata": {},
     "output_type": "execute_result"
    }
   ],
   "source": [
    "string = \"pakistan zindabad\"\n",
    "print(string.islower())\n",
    "\n",
    "s = \"Pakistan Zindabad\"\n",
    "s.islower()"
   ]
  },
  {
   "cell_type": "code",
   "execution_count": 28,
   "metadata": {},
   "outputs": [
    {
     "name": "stdout",
     "output_type": "stream",
     "text": [
      "True\n"
     ]
    },
    {
     "data": {
      "text/plain": [
       "False"
      ]
     },
     "execution_count": 28,
     "metadata": {},
     "output_type": "execute_result"
    }
   ],
   "source": [
    "s = \"123\"\n",
    "print(s.isnumeric())\n",
    "word = \"key12\"\n",
    "word.isnumeric()"
   ]
  },
  {
   "cell_type": "code",
   "execution_count": 29,
   "metadata": {},
   "outputs": [
    {
     "name": "stdout",
     "output_type": "stream",
     "text": [
      "True\n",
      "False\n"
     ]
    },
    {
     "data": {
      "text/plain": [
       "True"
      ]
     },
     "execution_count": 29,
     "metadata": {},
     "output_type": "execute_result"
    }
   ],
   "source": [
    "string = 'def'\n",
    "print(string.isidentifier())\n",
    "\n",
    "word = 'c++'\n",
    "print(word.isidentifier())\n",
    "\n",
    "s = \"python\"\n",
    "s.isidentifier()"
   ]
  },
  {
   "cell_type": "code",
   "execution_count": 30,
   "metadata": {},
   "outputs": [
    {
     "name": "stdout",
     "output_type": "stream",
     "text": [
      "False\n",
      "True\n",
      "False\n",
      "True\n"
     ]
    }
   ],
   "source": [
    "string = \"this is awesome\"\n",
    "print(string.istitle())\n",
    "\n",
    "string = \"This Is Awesome\"\n",
    "print(string.istitle())\n",
    "\n",
    "string = \"This is Awesome\"\n",
    "print(string.istitle())\n",
    "string = \"11 This Is @ Awesome\"\n",
    "print(string.istitle())"
   ]
  },
  {
   "cell_type": "code",
   "execution_count": 31,
   "metadata": {},
   "outputs": [
    {
     "name": "stdout",
     "output_type": "stream",
     "text": [
      "True\n",
      "False\n"
     ]
    }
   ],
   "source": [
    "string = \"CAPITALIZED\"\n",
    "print(string.isupper())\n",
    "\n",
    "string = \"this is awesome\"\n",
    "print(string.isupper())"
   ]
  },
  {
   "cell_type": "code",
   "execution_count": 33,
   "metadata": {},
   "outputs": [
    {
     "name": "stdout",
     "output_type": "stream",
     "text": [
      "a,b,c,d\n"
     ]
    }
   ],
   "source": [
    "string = 'abcd'\n",
    "sep = ','\n",
    "print(sep.join(string))"
   ]
  },
  {
   "cell_type": "code",
   "execution_count": 35,
   "metadata": {},
   "outputs": [
    {
     "name": "stdout",
     "output_type": "stream",
     "text": [
      "muhammad  anas\n",
      "muhammad**anas\n"
     ]
    }
   ],
   "source": [
    "s = \"muhammad\"\n",
    "print(s.ljust(10) + \"anas\")\n",
    "print(s.ljust(10,'*') + \"anas\")"
   ]
  },
  {
   "cell_type": "code",
   "execution_count": 37,
   "metadata": {},
   "outputs": [
    {
     "data": {
      "text/plain": [
       "'muhammad anas'"
      ]
     },
     "execution_count": 37,
     "metadata": {},
     "output_type": "execute_result"
    }
   ],
   "source": [
    "s = \"MUHAMMAD Anas\"\n",
    "s.lower()"
   ]
  },
  {
   "cell_type": "code",
   "execution_count": 38,
   "metadata": {},
   "outputs": [
    {
     "name": "stdout",
     "output_type": "stream",
     "text": [
      "PAKISTAN    Zindabad    zindabad\n",
      "   PAKISTAN    Zindabad    zindabad   \n",
      "PAKISTAN    Zindabad    zindabad   \n",
      "   PAKISTAN    Zindabad    zindabad\n"
     ]
    }
   ],
   "source": [
    "s = \"   PAKISTAN    Zindabad    zindabad   \"\n",
    "print(s.strip())\n",
    "print(s.strip('zindabad'))\n",
    "print(s.lstrip())\n",
    "print(s.rstrip())"
   ]
  },
  {
   "cell_type": "code",
   "execution_count": 39,
   "metadata": {},
   "outputs": [
    {
     "name": "stdout",
     "output_type": "stream",
     "text": [
      "('Python ', 'is ', 'fun')\n"
     ]
    }
   ],
   "source": [
    "string = \"Python is fun\"\n",
    "print(string.partition('is '))"
   ]
  },
  {
   "cell_type": "code",
   "execution_count": 40,
   "metadata": {},
   "outputs": [
    {
     "name": "stdout",
     "output_type": "stream",
     "text": [
      "('Python ', 'is ', 'fun')\n"
     ]
    }
   ],
   "source": [
    "string = \"Python is fun\"\n",
    "print(string.rpartition('is '))"
   ]
  },
  {
   "cell_type": "code",
   "execution_count": 41,
   "metadata": {},
   "outputs": [
    {
     "name": "stdout",
     "output_type": "stream",
     "text": [
      "['Python', 'is', 'fun']\n",
      "['Python', 'is', 'fun']\n"
     ]
    }
   ],
   "source": [
    "string = \"Python is fun\"\n",
    "print(string.split())\n",
    "\n",
    "print(string.rsplit())"
   ]
  },
  {
   "cell_type": "code",
   "execution_count": 42,
   "metadata": {},
   "outputs": [
    {
     "name": "stdout",
     "output_type": "stream",
     "text": [
      "['Milk', 'Chicken', 'Bread', 'Butter']\n",
      "['Milk\\n', 'Chicken\\r\\n', 'Bread\\r', 'Butter']\n",
      "['Milk Chicken Bread Butter']\n"
     ]
    }
   ],
   "source": [
    "grocery = 'Milk\\nChicken\\r\\nBread\\rButter'\n",
    "\n",
    "print(grocery.splitlines())\n",
    "print(grocery.splitlines(True))\n",
    "\n",
    "grocery = 'Milk Chicken Bread Butter'\n",
    "print(grocery.splitlines())"
   ]
  },
  {
   "cell_type": "code",
   "execution_count": 43,
   "metadata": {},
   "outputs": [
    {
     "name": "stdout",
     "output_type": "stream",
     "text": [
      "True\n",
      "False\n",
      "True\n"
     ]
    }
   ],
   "source": [
    "string =  \"Is time an illusion created within our minds? Or is it a dimension.\"\n",
    "print(string.startswith('Is'))\n",
    "print(string.endswith(\"dimension\"))\n",
    "print(string.endswith('dimension.'))"
   ]
  },
  {
   "cell_type": "code",
   "execution_count": 44,
   "metadata": {},
   "outputs": [
    {
     "name": "stdout",
     "output_type": "stream",
     "text": [
      "pakistan ZINDABAD\n"
     ]
    }
   ],
   "source": [
    "string = \"PAKISTAN zindabad\"\n",
    "print(string.swapcase())"
   ]
  },
  {
   "cell_type": "code",
   "execution_count": 45,
   "metadata": {},
   "outputs": [
    {
     "name": "stdout",
     "output_type": "stream",
     "text": [
      "0program is fun\n",
      "000000program is fun\n",
      "program is fun\n"
     ]
    }
   ],
   "source": [
    "text = \"program is fun\"\n",
    "print(text.zfill(15))\n",
    "print(text.zfill(20))\n",
    "print(text.zfill(10))"
   ]
  },
  {
   "cell_type": "code",
   "execution_count": null,
   "metadata": {},
   "outputs": [],
   "source": []
  }
 ],
 "metadata": {
  "kernelspec": {
   "display_name": "Python 3",
   "language": "python",
   "name": "python3"
  },
  "language_info": {
   "codemirror_mode": {
    "name": "ipython",
    "version": 3
   },
   "file_extension": ".py",
   "mimetype": "text/x-python",
   "name": "python",
   "nbconvert_exporter": "python",
   "pygments_lexer": "ipython3",
   "version": "3.7.4"
  }
 },
 "nbformat": 4,
 "nbformat_minor": 2
}
